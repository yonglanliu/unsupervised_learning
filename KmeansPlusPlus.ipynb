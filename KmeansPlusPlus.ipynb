{
  "nbformat": 4,
  "nbformat_minor": 0,
  "metadata": {
    "colab": {
      "provenance": [],
      "authorship_tag": "ABX9TyOtvIcjOHQGBS9RvE1gCqwc",
      "include_colab_link": true
    },
    "kernelspec": {
      "name": "python3",
      "display_name": "Python 3"
    },
    "language_info": {
      "name": "python"
    }
  },
  "cells": [
    {
      "cell_type": "markdown",
      "metadata": {
        "id": "view-in-github",
        "colab_type": "text"
      },
      "source": [
        "<a href=\"https://colab.research.google.com/github/yonglanliu/unsupervised_learning/blob/main/KmeansPlusPlus.ipynb\" target=\"_parent\"><img src=\"https://colab.research.google.com/assets/colab-badge.svg\" alt=\"Open In Colab\"/></a>"
      ]
    },
    {
      "cell_type": "code",
      "source": [
        "import numpy as np\n",
        "from sklearn.datasets import make_blobs"
      ],
      "metadata": {
        "id": "mCIWCpJsaxJU"
      },
      "execution_count": 1,
      "outputs": []
    },
    {
      "cell_type": "code",
      "execution_count": 8,
      "metadata": {
        "id": "ZuXPFUPeXq6u"
      },
      "outputs": [],
      "source": [
        "class KmeanPlusPlus():\n",
        "  \"\"\"\n",
        "  1. Randomly choose one of the observatins to be a cluster center\n",
        "  2. For each observation x, determine d(x), where d(x) denotes the minimal distance from x to a current cluster center\n",
        "  3. Choose next cluster center from the data points, with probability of making an observation x a cluster center proportional to d(x)**2\n",
        "  4. Repeat 2 and 3 until you have choosen the right number of clusters\n",
        "  \"\"\"\n",
        "  def __init__(self, inputs:np.ndarray, k: int=3, random_seed: int=258):\n",
        "    self.inputs = inputs\n",
        "    self.centroids_list =[]\n",
        "    self.centroids_idx_list = []\n",
        "    self.random_seed=random_seed\n",
        "    self.k = k\n",
        "\n",
        "  def get_centroids_id(self):\n",
        "    return self.centroids_idx_list\n",
        "\n",
        "  def get_centroids(self):\n",
        "    return self.centroids_list\n",
        "\n",
        "  def update_centroids(self, idx, centroid):\n",
        "    self.centroids_idx_list.append(idx)\n",
        "    self.centroids_list.append(centroid)\n",
        "    return self.centroids_idx_list, self.centroids_list\n",
        "\n",
        "  def _first_centroid(self):\n",
        "    \"\"\"randomly select a data sample as the first centroid\"\"\"\n",
        "    np.random.seed(self.random_seed)\n",
        "    idx = np.random.choice(self.inputs.shape[0])\n",
        "    centroid = list(self.inputs[idx])\n",
        "    return idx, centroid\n",
        "\n",
        "  def find_next_centroid(self):\n",
        "    \"\"\"\n",
        "    centroids_coord: centriod coordinates\n",
        "    inputs: inputs\n",
        "    \"\"\"\n",
        "    centroids = np.array(self.centroids_list)\n",
        "    # add one dimension to centriod\n",
        "    centroids = centroids[:, None]\n",
        "    # Apply numpy Broadcasting operation to determine the minimum distances\n",
        "    min_distances = np.min(np.sum((centroids - self.inputs)**2, axis=-1), axis=0)\n",
        "    # calculate the probability\n",
        "    probability = min_distances / np.sum(min_distances)\n",
        "    # select the sample with the largest probability as the next centroid\n",
        "    dict_prob = {idx: prob for idx, prob in enumerate(probability)}\n",
        "    dict_prob = {idx: prob for idx, prob in dict_prob.items() if idx not in self.centroids_idx_list}\n",
        "    next_centroid_idx = max(dict_prob, key=dict_prob.get)\n",
        "    next_centroid = list(self.inputs[next_centroid_idx])\n",
        "    return next_centroid_idx, next_centroid\n",
        "\n",
        "  def _call_(self):\n",
        "    assert self.k >= 1\n",
        "    first_centroid_id, first_centroid = self._first_centroid()\n",
        "    centroids_list, centroids_idx_list = self.update_centroids(first_centroid_id, first_centroid)\n",
        "    if self.k > 1:\n",
        "      for i in range(1, self.k):\n",
        "        next_centroid_idx, next_centroid = self.find_next_centroid()\n",
        "        centroids_list, centroids_idx_list = self.update_centroids(next_centroid_idx, next_centroid)\n",
        "    return centroids_list, centroids_idx_list"
      ]
    },
    {
      "cell_type": "code",
      "source": [
        "inputs,y = make_blobs(n_samples = 500,n_features = 2,centers = 3,random_state = 23)"
      ],
      "metadata": {
        "id": "UiVqND6mas2N"
      },
      "execution_count": 9,
      "outputs": []
    },
    {
      "cell_type": "code",
      "source": [
        "kpp = KmeanPlusPlus(inputs, k=3)"
      ],
      "metadata": {
        "id": "Ki1qkIe6a32w"
      },
      "execution_count": 10,
      "outputs": []
    },
    {
      "cell_type": "code",
      "source": [
        "centroids_list, centroids_idx_list = kpp._call_()"
      ],
      "metadata": {
        "id": "0469b-2XbI5V"
      },
      "execution_count": 11,
      "outputs": []
    },
    {
      "cell_type": "code",
      "source": [
        "centroids_list"
      ],
      "metadata": {
        "colab": {
          "base_uri": "https://localhost:8080/"
        },
        "id": "bzvWeivWbORW",
        "outputId": "39a1b1bc-a08b-4249-bbfe-39cea282ec87"
      },
      "execution_count": 12,
      "outputs": [
        {
          "output_type": "execute_result",
          "data": {
            "text/plain": [
              "[199, 483, 30]"
            ]
          },
          "metadata": {},
          "execution_count": 12
        }
      ]
    },
    {
      "cell_type": "code",
      "source": [
        "centroids_idx_list"
      ],
      "metadata": {
        "colab": {
          "base_uri": "https://localhost:8080/"
        },
        "id": "QTrPqe8KbXoN",
        "outputId": "5eeccac5-e3c6-4e8b-f00a-92f9db62e779"
      },
      "execution_count": 13,
      "outputs": [
        {
          "output_type": "execute_result",
          "data": {
            "text/plain": [
              "[[-4.608795558215633, 5.7051538418033125],\n",
              " [6.4704644511626475, -6.806252906653327],\n",
              " [1.0228177939849923, 12.126754762862621]]"
            ]
          },
          "metadata": {},
          "execution_count": 13
        }
      ]
    }
  ]
}